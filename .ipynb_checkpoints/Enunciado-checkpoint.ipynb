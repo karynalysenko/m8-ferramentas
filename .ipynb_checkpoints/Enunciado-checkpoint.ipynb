{
 "cells": [
  {
   "cell_type": "markdown",
   "metadata": {},
   "source": [
    "# Ferramentas Informáticas para Análise e Tratamento de Dados\n",
    "\n",
    "Aula no âmbito da UC Técnicas de Caracterização em Ciências e Tecnologias I (CFEFIC)\n",
    "\n",
    "Docente: Jorge Gustavo Rocha, jgr@di.uminho.pt\n",
    "\n",
    "Departamento de Informática, Universidade do minho\n",
    "\n",
    "\n",
    "### Enunciado do trabalho prático\n",
    "\n",
    "O trabalho prático consiste em apresentar, no github, a resolução de um exercício.\n",
    "\n",
    "O exercício a resolver pode ser qualquer um dos propostos no notebook Expressões Regulares. Basta fazer um dos exercícios.\n",
    "\n",
    "Para entregar o trabalho, basta enviar por email o link para o repositório Github onde tem o(s) seu(s) notebook(s), já com um dos exercícios de expressões regulares resolvido.\n",
    "\n",
    "Data limite: 16 de dezembro, 2022\n",
    "\n",
    "### Gravação da aula\n",
    "\n",
    "A gravação da aula está disponível a partir de: https://videoconf-colibri.zoom.us/rec/share/R69qjBYriyNzNU_M0GcNw1YoYdT7ZXEZVM5BQSOc4ytCAai4_Lwm5wkjw-JMTR8z.nar_zSnPeBly9gVN\n",
    "\n",
    "Passcode: !UB4dtfC\n",
    "\n",
    "### Documentos de suporte\n",
    "\n",
    "Todos os documentos de suporte estão disponíveis a partir do repositório: https://github.com/jgrocha/m8-ferramentas\n",
    "\n",
    "Ciclo de vida sugerido para a resolução do trabalho prático:\n",
    "- Instalar o Anaconda, se ainda não o fez\n",
    "- Criar uma conta no github (se ainda não o fez) \n",
    "- Fazer um fork do repositório: https://github.com/jgrocha/m8-ferramentas\n",
    "- Instalar o git localmente (se ainda não o fez)\n",
    "- Clonar o seu repositório Github no seu computador local (fica com uma réplica do que está online)\n",
    "- Lançar o Jupyter a partir do Anaconda Navigator\n",
    "- Abrir o notebook Expressões Regulares a partir do Jupyter (que está na pasta onde clonou o repositório)\n",
    "- Executar os exemplos de expressões regulares existentes\n",
    "- Resolver um dos exercícios propostos\n",
    "- No repositório local, fazer \"stage\" das alterações, depois commit e depois push para o repositório no Github.\n",
    "- Enviar o link do repositório Github com a notebook atualizado (isto é, com a resolução do problema)\n",
    "\n",
    "### Trabalho prévio\n",
    "\n",
    "Instalar o [Anaconda](https://www.anaconda.com/products/individual) para instalar o Python, o Jupyter e outros módulos. O Anaconda é um ecossitema Python com ferramentas próprias para gerir módulos adicionais.\n",
    "\n",
    "Instalar o [git](https://git-scm.com/book/en/v2/Getting-Started-Installing-Git).\n",
    "\n",
    "Criar conta no [github](https://github.com/).\n"
   ]
  }
 ],
 "metadata": {
  "authors": [
   {
    "name": "Jorge Gustavo Rocha"
   }
  ],
  "kernelspec": {
   "display_name": "Python 3 (ipykernel)",
   "language": "python",
   "name": "python3"
  },
  "language_info": {
   "codemirror_mode": {
    "name": "ipython",
    "version": 3
   },
   "file_extension": ".py",
   "mimetype": "text/x-python",
   "name": "python",
   "nbconvert_exporter": "python",
   "pygments_lexer": "ipython3",
   "version": "3.9.12"
  },
  "vscode": {
   "interpreter": {
    "hash": "916dbcbb3f70747c44a77c7bcd40155683ae19c65e1c03b4aa3499c5328201f1"
   }
  }
 },
 "nbformat": 4,
 "nbformat_minor": 2
}
