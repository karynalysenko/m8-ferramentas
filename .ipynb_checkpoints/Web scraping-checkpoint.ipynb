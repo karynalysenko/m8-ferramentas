{
 "cells": [
  {
   "cell_type": "markdown",
   "metadata": {},
   "source": [
    "### Recolher dados da Web\n",
    "\n",
    "Neste notebook vamos sistematizar a recolha de dados a partir do site do Genbank.\n",
    "\n",
    "Dado uma determinada sequência, identificada por um id, por exemplo, quer-se ir ao site descarregar o respetivo registo, tratá-lo (somo já fizemos) e depois inserir as partes relevantes em base de dados.\n",
    "\n",
    "Exemplos de links para sequências:\n",
    "- https://www.ncbi.nlm.nih.gov/nuccore/L42022\n",
    "- https://www.ncbi.nlm.nih.gov/nuccore/L42023\n",
    "- https://www.ncbi.nlm.nih.gov/nuccore/LC740868.1\n",
    "\n",
    "Depois de se pedir este link, dentro da página, em Javascript, é feito um outro pedido ao servidor a pedir o record da sequência.\n",
    "\n",
    "Exemplo:\n",
    "- https://www.ncbi.nlm.nih.gov/sviewer/viewer.cgi?tool=portal&save=file&log$=seqview&db=nuccore&report=genbank&id=804715&conwithfeat=on&hide-cdd=on&ncbi_phid=null"
   ]
  },
  {
   "cell_type": "markdown",
   "metadata": {},
   "source": [
    "No exemplo seguinte,. pede-se a página, mas a mesma não contém o registo que nos interessa.\n",
    "\n",
    "O registo é carregado assincronamente, através de programação Javascript."
   ]
  },
  {
   "cell_type": "code",
   "execution_count": 1,
   "metadata": {},
   "outputs": [],
   "source": [
    "import requests\n",
    "r = requests.get('https://www.ncbi.nlm.nih.gov/nuccore/PA500505.1')\n",
    "#print(r.content)"
   ]
  },
  {
   "cell_type": "markdown",
   "metadata": {},
   "source": [
    "No exemplo seguinte,. em vez de se pedir a página que contém o registo, pede-se apenas o registo, depois de percebermos como o mesmo é pedido."
   ]
  },
  {
   "cell_type": "code",
   "execution_count": 2,
   "metadata": {},
   "outputs": [
    {
     "name": "stdout",
     "output_type": "stream",
     "text": [
      "b'LOCUS       PA500505                 318 bp    DNA     linear   PAT 31-MAY-2022\\nDEFINITION  JP 2022506561-A/6: ANTIBODY BINDING TO HUMAN IL-1beta, PREPARATION\\n            METHOD THEREFOR AND USE THEREOF.\\nACCESSION   PA500505\\nVERSION     PA500505.1\\nKEYWORDS    JP 2022506561-A/6.\\nSOURCE      Homo\\n  ORGANISM  Homo\\n            Eukaryota; Metazoa; Chordata; Craniata; Vertebrata; Euteleostomi;\\n            Mammalia; Eutheria; Euarchontoglires; Primates; Haplorrhini;\\n            Catarrhini; Hominidae.\\nREFERENCE   1  (bases 1 to 318)\\n  AUTHORS   Xia,Y., Wang,Z., Zhang,P. and Li,B.\\n  TITLE     ANTIBODY BINDING TO HUMAN IL-1beta, PREPARATION METHOD THEREFOR AND\\n            USE THEREOF\\n  JOURNAL   Patent: JP 2022506561-A 6 17-JAN-2022;\\n            ZEDA BIOPHARMACEUTICALS INC\\nCOMMENT     OS   Homo\\n            PN   JP 2022506561-A/6\\n            PD   17-JAN-2022\\n            PF   04-NOV-2019 JP 2021523978\\n            PR   07-NOV-2018 CN 201811322002.7\\n            PA   ZEDA BIOPHARMACEUTICALS INC\\n            PI   yu xia,zhongmin wang,peng zhang,baiyong li\\n            PT   \\'ANTIBODY BINDING TO HUMAN IL-1beta, PREPARATION METHOD\\n            PT   THEREFOR AND USE\\n            PT   THEREOF\\'\\n            PS   N20\\n            CC\\n            FH   Key             Location/Qualifiers.\\nFEATURES             Location/Qualifiers\\n     source          1..318\\n                     /organism=\"Homo\"\\n                     /mol_type=\"unassigned DNA\"\\n                     /db_xref=\"taxon:9605\"\\nORIGIN      \\n        1 gaaatcgtgc tgacccagag cccagctaca ctgagcgcct ctccaggaga gagagtgacc\\n       61 atctcttgca gagccagcag cagcgtgtcc tacctgcatt ggtaccagca gaagcccgga\\n      121 caggccccac gcctctggat ctacaccaca agcaccctgg ccaccggagt gccagctaga\\n      181 ttcagcggaa gcggcagcgg cacagattat accctgacca tcagcaggat ggagccagag\\n      241 gacgcagcca cctactattg ccagcagcgg atcatctacc ctcctacctt tggcggcggc\\n      301 acaaagctgg agatcaag\\n//\\n\\n'\n"
     ]
    }
   ],
   "source": [
    "#pip3 install html5lib\n",
    "\n",
    "import requests\n",
    "from bs4 import BeautifulSoup\n",
    "\n",
    "# Making a GET request\n",
    "r = requests.get('https://www.ncbi.nlm.nih.gov/sviewer/viewer.fcgi?id=2246533317&db=nuccore&report=genbank&conwithfeat=on&hide-cdd=on&retmode=text&ncbi_phid=CE88F25338A215A1000000000483042A&withmarkup=on&tool=portal&log$=seqview&maxdownloadsize=1000000')\n",
    "# r = requests.get('https://www.ncbi.nlm.nih.gov/sviewer/viewer.fcgi?id=804715&db=nuccore&report=genbank&conwithfeat=on&hide-cdd=on&retmode=html&ncbi_phid=CE8B6449389BE9F100000000068605EB&withmarkup=on&tool=portal&log$=seqview&maxdownloadsize=1000000')\n",
    "\n",
    "print( r.content ) \n",
    "\n",
    "\n"
   ]
  },
  {
   "cell_type": "markdown",
   "metadata": {},
   "source": [
    "### Problema\n",
    "\n",
    "Ao pedir a página, não vem a registo da sequência.\n",
    "\n",
    "Para pedir o registo, o mesmo pede-se por um id (um número interno) que é diferente do id da sequência (L42022, por exemplo).\n",
    "\n",
    "### Solução\n",
    "\n",
    "A solução passa por fazer dois pedidos. No primeiro, pede-se a página e extrai-se apenas o id numérico interno, associado à sequência. Esse id interno é então usado para se fazer o segundo pedido.\n",
    "\n"
   ]
  },
  {
   "cell_type": "code",
   "execution_count": 3,
   "metadata": {},
   "outputs": [
    {
     "name": "stdout",
     "output_type": "stream",
     "text": [
      "b'LOCUS       HIVI5C                   231 bp    DNA     linear   VRL 24-MAR-1997\\nDEFINITION  Human immunodeficiency virus type 1 (isolate genotype C, I5) gag\\n            gene, partial cds.\\nACCESSION   L42022\\nVERSION     L42022.1\\nKEYWORDS    gag gene; p24 protein.\\nSOURCE      Human immunodeficiency virus 1 (HIV-1)\\n  ORGANISM  Human immunodeficiency virus 1\\n            Viruses; Riboviria; Pararnavirae; Artverviricota; Revtraviricetes;\\n            Ortervirales; Retroviridae; Orthoretrovirinae; Lentivirus.\\nREFERENCE   1  (bases 1 to 231)\\n  AUTHORS   Voevodin,A., Crandall,K.A., Seth,P. and al Mufti,S.\\n  TITLE     HIV type 1 subtypes B and C from new regions of India and Indian\\n            and Ethiopian expatriates in Kuwait\\n  JOURNAL   AIDS Res. Hum. Retroviruses 12 (7), 641-643 (1996)\\n   PUBMED   8743090\\nFEATURES             Location/Qualifiers\\n     source          1..231\\n                     /organism=\"Human immunodeficiency virus 1\"\\n                     /proviral\\n                     /mol_type=\"genomic DNA\"\\n                     /isolate=\"genotype C, I5\"\\n                     /db_xref=\"taxon:11676\"\\n     gene            1..231\\n                     /gene=\"gag\"\\n     CDS             <1..>231\\n                     /gene=\"gag\"\\n                     /codon_start=1\\n                     /protein_id=\"AAB50165.1\"\\n                     /translation=\"HPVHAGPIAPGQMREPRGSDIAGTTSTLQEQVAWMTGNPPVPVG\\n                     EIYKRWIILGLNKIVRMYSPVSILDIKQGPKEP\"\\nORIGIN      \\n        1 catccagtac atgcagggcc tattgcacca ggccaaatga gagaaccaag gggaagtgac\\n       61 atagcaggaa ctacaagtac ccttcaggaa caagtagcat ggatgacagg taacccacct\\n      121 gttccagtgg gagaaatcta taaaagatgg ataattctgg gattaaataa aatagtaaga\\n      181 atgtatagcc ctgtcagcat tttggacata aaacaagggc caaaggaacc c\\n//\\n\\n'\n"
     ]
    }
   ],
   "source": [
    "#pip3 install html5lib\n",
    "\n",
    "import requests\n",
    "from bs4 import BeautifulSoup\n",
    "\n",
    "# Making a GET request\n",
    "r = requests.get('https://www.ncbi.nlm.nih.gov/nuccore/L42022')\n",
    "# Parsing the HTML\n",
    "soup = BeautifulSoup(r.content, 'html.parser')\n",
    "\n",
    "# Procurar um tag meta com um determinado atributo\n",
    "lines = soup.find_all('meta', {'name':\"ncbi_uidlist\"} )\n",
    "\n",
    "ids = \"\"\n",
    "url = \"\"\n",
    "for line in lines:\n",
    "\t# print(line)\n",
    "\t# if 'name' in line.attrs:\n",
    "\t# \tprint(line.attrs['name'])\n",
    "\tif 'content' in line.attrs:\n",
    "\t\t# print(line.attrs['content'])\t\t\n",
    "\t\tids = line.attrs['content']\n",
    "\n",
    "if ids:\n",
    "\turl = \"https://www.ncbi.nlm.nih.gov/sviewer/viewer.fcgi?id={}&db=nuccore&report=genbank&conwithfeat=on&hide-cdd=on&retmode=text&maxdownloadsize=5000000\".format(ids)\n",
    "\n",
    "r2 = requests.get( url )\n",
    "\n",
    "print( r2.content ) \n"
   ]
  },
  {
   "cell_type": "code",
   "execution_count": 4,
   "metadata": {},
   "outputs": [
    {
     "name": "stdout",
     "output_type": "stream",
     "text": [
      "['https://www.ncbi.nlm.nih.gov/nuccore/L40300', 'https://www.ncbi.nlm.nih.gov/nuccore/L40301', 'https://www.ncbi.nlm.nih.gov/nuccore/L40302', 'https://www.ncbi.nlm.nih.gov/nuccore/L40303', 'https://www.ncbi.nlm.nih.gov/nuccore/L40304', 'https://www.ncbi.nlm.nih.gov/nuccore/L40305']\n"
     ]
    }
   ],
   "source": [
    "import time\n",
    "lista=[]\n",
    "for i in range(300,306):\n",
    "    url=\"https://www.ncbi.nlm.nih.gov/nuccore/L40{}\".format(i)\n",
    "    lista.append(url) \n",
    "    #time.sleep(1) #deelay propositado para nao crachar o programa\n",
    "print(lista)\n"
   ]
  },
  {
   "cell_type": "code",
   "execution_count": 13,
   "metadata": {},
   "outputs": [
    {
     "name": "stdout",
     "output_type": "stream",
     "text": [
      "b'LOCUS       RRVEGLY51A               249 bp ss-RNA     linear   VRL 16-MAY-1996\\nDEFINITION  Ross River virus envelope glycoprotein (E2) gene, partial cds.\\nACCESSION   L40305\\nVERSION     L40305.1\\nKEYWORDS    envelope glycoprotein.\\nSOURCE      Ross River virus\\n  ORGANISM  Ross River virus\\n            Viruses; Riboviria; Orthornavirae; Kitrinoviricota; Alsuviricetes;\\n            Martellivirales; Togaviridae; Alphavirus.\\nREFERENCE   1  (bases 1 to 249)\\n  AUTHORS   Sammels,L.M., Coelen,R.J., Lindsay,M.D. and Mackenzie,J.S.\\n  TITLE     Geographic distribution and evolution of Ross River virus in\\n            Australia and the Pacific Islands\\n  JOURNAL   Virology 212 (1), 20-29 (1995)\\n   PUBMED   7676630\\nCOMMENT     Original source text: Ross River virus (strain KEN94) RNA.\\nFEATURES             Location/Qualifiers\\n     source          1..249\\n                     /organism=\"Ross River virus\"\\n                     /mol_type=\"genomic RNA\"\\n                     /strain=\"KEN94\"\\n                     /db_xref=\"taxon:11029\"\\n     gene            1..249\\n                     /gene=\"E2\"\\n     CDS             <1..>249\\n                     /gene=\"E2\"\\n                     /note=\"putative\"\\n                     /codon_start=3\\n                     /product=\"envelope glycoprotein\"\\n                     /protein_id=\"AAB00045.1\"\\n                     /translation=\"QIGLDKAGTHAHTKLRYMAGHDVQESKRDSLRVYTSAACSIHGT\\n                     MGHFIVAHCPPGDYLKVSFEDADSHVKACKVQYKHNPL\"\\nORIGIN      \\n        1 cccaaatagg tctggacaag gcaggcaccc acgcccacac gaagctccga tatatggctg\\n       61 gtcatgatgt tcaggaatct aagagagatt ccttgagggt gtacacgtcc gcagcgtgct\\n      121 ccatacatgg gacgatggga catttcatcg tcgcacactg tccaccaggc gactacctca\\n      181 aggtttcgtt tgaggacgca gattcgcacg tgaaggcatg taaggtccaa tacaagcaca\\n      241 atccattgc\\n//\\n\\n' https://www.ncbi.nlm.nih.gov/sviewer/viewer.fcgi?id=703361&db=nuccore&report=genbank&conwithfeat=on&hide-cdd=on&retmode=text&maxdownloadsize=5000000\n"
     ]
    }
   ],
   "source": [
    "import requests\n",
    "from bs4 import BeautifulSoup\n",
    "lista_r2=[]\n",
    "# Making a GET request\n",
    "for i in lista:\n",
    "    r=requests.get(i)\n",
    "# Parsing the HTML\n",
    "    soup = BeautifulSoup(r.content, 'html.parser')\n",
    "\n",
    "# Procurar um tag meta com um determinado atributo\n",
    "    lines = soup.find_all('meta', {'name':\"ncbi_uidlist\"} )\n",
    "\n",
    "    ids = \"\"\n",
    "    url = \"\"\n",
    "    for line in lines:\n",
    "#         print(line)\n",
    "#         if 'name' in line.attrs:\n",
    "#             print(line.attrs['name'])\n",
    "        if 'content' in line.attrs:\n",
    "\t\t# print(line.attrs['content'])\t\t\n",
    "            ids = line.attrs['content']\n",
    "\n",
    "    if ids:\n",
    "        url = \"https://www.ncbi.nlm.nih.gov/sviewer/viewer.fcgi?id={}&db=nuccore&report=genbank&conwithfeat=on&hide-cdd=on&retmode=text&maxdownloadsize=5000000\".format(ids)\n",
    "\n",
    "        r2 = requests.get( url )\n",
    "        #lista_r2.append(r2)\n",
    "print(r2.content, url)"
   ]
  },
  {
   "cell_type": "code",
   "execution_count": 18,
   "metadata": {},
   "outputs": [
    {
     "ename": "TypeError",
     "evalue": "cannot use a string pattern on a bytes-like object",
     "output_type": "error",
     "traceback": [
      "\u001b[1;31m---------------------------------------------------------------------------\u001b[0m",
      "\u001b[1;31mTypeError\u001b[0m                                 Traceback (most recent call last)",
      "Input \u001b[1;32mIn [18]\u001b[0m, in \u001b[0;36m<cell line: 3>\u001b[1;34m()\u001b[0m\n\u001b[0;32m      1\u001b[0m \u001b[38;5;28;01mimport\u001b[39;00m \u001b[38;5;21;01mre\u001b[39;00m\n\u001b[1;32m----> 3\u001b[0m existe \u001b[38;5;241m=\u001b[39m \u001b[43mre\u001b[49m\u001b[38;5;241;43m.\u001b[39;49m\u001b[43mfindall\u001b[49m\u001b[43m(\u001b[49m\u001b[38;5;124;43mr\u001b[39;49m\u001b[38;5;124;43m'\u001b[39;49m\u001b[38;5;124;43mLOCUS\u001b[39;49m\u001b[38;5;124;43m\\\u001b[39;49m\u001b[38;5;124;43ms+.*?(?=DEFINITION)\u001b[39;49m\u001b[38;5;124;43m'\u001b[39;49m\u001b[43m,\u001b[49m\u001b[43m \u001b[49m\u001b[43mr2\u001b[49m\u001b[38;5;241;43m.\u001b[39;49m\u001b[43mcontent\u001b[49m\u001b[43m,\u001b[49m\u001b[43m \u001b[49m\u001b[43mre\u001b[49m\u001b[38;5;241;43m.\u001b[39;49m\u001b[43mDOTALL\u001b[49m\u001b[43m)\u001b[49m\n\u001b[0;32m      4\u001b[0m \u001b[38;5;28mprint\u001b[39m(existe)\n\u001b[0;32m      5\u001b[0m \u001b[38;5;28;01mif\u001b[39;00m existe:\n",
      "File \u001b[1;32m~\\anaconda3\\lib\\re.py:241\u001b[0m, in \u001b[0;36mfindall\u001b[1;34m(pattern, string, flags)\u001b[0m\n\u001b[0;32m    233\u001b[0m \u001b[38;5;28;01mdef\u001b[39;00m \u001b[38;5;21mfindall\u001b[39m(pattern, string, flags\u001b[38;5;241m=\u001b[39m\u001b[38;5;241m0\u001b[39m):\n\u001b[0;32m    234\u001b[0m     \u001b[38;5;124;03m\"\"\"Return a list of all non-overlapping matches in the string.\u001b[39;00m\n\u001b[0;32m    235\u001b[0m \n\u001b[0;32m    236\u001b[0m \u001b[38;5;124;03m    If one or more capturing groups are present in the pattern, return\u001b[39;00m\n\u001b[1;32m   (...)\u001b[0m\n\u001b[0;32m    239\u001b[0m \n\u001b[0;32m    240\u001b[0m \u001b[38;5;124;03m    Empty matches are included in the result.\"\"\"\u001b[39;00m\n\u001b[1;32m--> 241\u001b[0m     \u001b[38;5;28;01mreturn\u001b[39;00m \u001b[43m_compile\u001b[49m\u001b[43m(\u001b[49m\u001b[43mpattern\u001b[49m\u001b[43m,\u001b[49m\u001b[43m \u001b[49m\u001b[43mflags\u001b[49m\u001b[43m)\u001b[49m\u001b[38;5;241;43m.\u001b[39;49m\u001b[43mfindall\u001b[49m\u001b[43m(\u001b[49m\u001b[43mstring\u001b[49m\u001b[43m)\u001b[49m\n",
      "\u001b[1;31mTypeError\u001b[0m: cannot use a string pattern on a bytes-like object"
     ]
    }
   ],
   "source": [
    "import re\n",
    "\n",
    "existe = re.findall(r'LOCUS\\s+.*?(?=DEFINITION)', r2.content, re.DOTALL)\n",
    "if existe:\n",
    "    for title in existe:\n",
    "        m = re.match( r'TITLE\\s+(.+)', title, re.DOTALL )\n",
    "        print( m.group(1) )\n",
    "        #print( re.sub(r'\\s+', ' ', m.group(1) ) )"
   ]
  }
 ],
 "metadata": {
  "authors": [
   {
    "name": "Jorge Gustavo Rocha"
   }
  ],
  "kernelspec": {
   "display_name": "Python 3 (ipykernel)",
   "language": "python",
   "name": "python3"
  },
  "language_info": {
   "codemirror_mode": {
    "name": "ipython",
    "version": 3
   },
   "file_extension": ".py",
   "mimetype": "text/x-python",
   "name": "python",
   "nbconvert_exporter": "python",
   "pygments_lexer": "ipython3",
   "version": "3.9.12"
  },
  "vscode": {
   "interpreter": {
    "hash": "916dbcbb3f70747c44a77c7bcd40155683ae19c65e1c03b4aa3499c5328201f1"
   }
  }
 },
 "nbformat": 4,
 "nbformat_minor": 2
}
