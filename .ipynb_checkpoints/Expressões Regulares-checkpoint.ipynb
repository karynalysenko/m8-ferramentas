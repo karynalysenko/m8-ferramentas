{
 "cells": [
  {
   "cell_type": "markdown",
   "metadata": {},
   "source": [
    "# Expressões regulares\n",
    "\n",
    "As expressões regulares são usadas nas linguagens de programação e, em Linux, na generalidade das ferramentas que trabalham com ficheiros.\n",
    "\n",
    "Nesta ficha vamos aprender coisas básicas de expressões regulares.\n",
    "\n",
    "Se necessário, tem disponível a [documentação de expressões regulares em Python](https://docs.python.org/3/howto/regex.html)."
   ]
  },
  {
   "cell_type": "markdown",
   "metadata": {},
   "source": [
    "### Escrita de expressões regulares\n",
    "\n",
    "As expressões regulares usam uma sintaxe especial para escrever os padrões. Como usam muitas vezes o `\\`, que também é usado nas strings para representar carateres especiais, como o newline `\\n`, as expressões regulares não devem ser tratadas como uma string normal. Por isso, usa-se o prefiro `r` (de raw) antes de se escrever uma expressão regular."
   ]
  },
  {
   "cell_type": "code",
   "execution_count": 6,
   "metadata": {},
   "outputs": [
    {
     "name": "stdout",
     "output_type": "stream",
     "text": [
      "O céu\n",
      "está azul\n",
      "O céu\\nestá azul\n",
      "O céu\\nestá azul\n"
     ]
    }
   ],
   "source": [
    "# exemplo de um string normal\n",
    "print(\"O céu\\nestá azul\")\n",
    "# forçar a escrita de um \\\n",
    "print(\"O céu\\\\nestá azul\") \n",
    "# usar o prefixo r, para raw, print ou assim\n",
    "print(r\"O céu\\nestá azul\")"
   ]
  },
  {
   "cell_type": "markdown",
   "metadata": {},
   "source": [
    "Para se manter as expressões regulares legíveis, vamos escrevê-las sempre com o prefixo `r` de raw. Contudo, lembre-se que as seguintes expressões, por exemplo, são idênticas:\n",
    "```\n",
    "match = re.search(r'\\d+', frase)\n",
    "match = re.search('\\\\d+', frase)\n",
    "```\n"
   ]
  },
  {
   "cell_type": "markdown",
   "metadata": {},
   "source": []
  },
  {
   "cell_type": "markdown",
   "metadata": {},
   "source": [
    "## Células de texto e células de código\n",
    "\n",
    "Não se esqueça que está usar um notebook, onde há células com texto apenas e células com código.\n",
    "\n",
    "Na célula seguinte apresenta-se o código inicial que vamos usar nos primeiros exemplos. Tem que executar esta célula, antes de executar as posteriores."
   ]
  },
  {
   "cell_type": "code",
   "execution_count": 2,
   "metadata": {},
   "outputs": [],
   "source": [
    "import re\n",
    "frase = \"O João tem 18 anos e nasceu em 2004, 2 anos antes da Inês que agora tem 16, que nasceu em 2006\""
   ]
  },
  {
   "cell_type": "markdown",
   "metadata": {},
   "source": [
    "As expressões regulares consistem em definir padrões e depois usar funções que vão à procura desses padrões num texto.\n",
    "\n",
    "As duas funções mais simples são `search()` e `match()`.\n",
    "\n",
    "A função `search()` procura o padrão em qualquer posição.\n",
    "\n",
    "A função `match()` procura o padrão no início da frase.\n",
    "\n",
    "Ambas retornam `None` se o padrão não for encontrado."
   ]
  },
  {
   "cell_type": "code",
   "execution_count": 5,
   "metadata": {},
   "outputs": [
    {
     "name": "stdout",
     "output_type": "stream",
     "text": [
      "1\n"
     ]
    }
   ],
   "source": [
    "match = re.search(r'[0123456789]', frase)\n",
    "print(match[0])\n"
   ]
  },
  {
   "cell_type": "markdown",
   "metadata": {},
   "source": [
    "No exemplo anterior, usa-se o padrão `[0123456789]` para indicar que queremos ir à procura de um algarismo.\n",
    "\n",
    "Os padrões seguintes são equivalentes a este:\n",
    "- `[0-9]`\n",
    "- `\\d`\n",
    "\n",
    "No exemplo, a função `search` dá um resultado diferente de None (quer dizer que encontrou o padrão) e o texto que satisfez o padrão foi o a primeira ocorrência do algarismo `1`."
   ]
  },
  {
   "cell_type": "markdown",
   "metadata": {},
   "source": [
    "#### Compilar versus não compilar\n",
    "\n",
    "Ao consultar a documentação ou ao ver exemplos, pode verificar que as expressões regulares podem ser compiladas antes de serem usadas.\n",
    "\n",
    "É exatamente a mesma coisa:\n",
    "\n",
    "```\n",
    "match = re.search(r'\\d+', frase)\n",
    "```\n",
    "\n",
    "ou\n",
    "\n",
    "```\n",
    "p = re.compile(r'\\d+')\n",
    "p.search(frase)\n",
    "```\n",
    "\n",
    "No exemplo seguinte, usa-se o padrão `[0-9]+`. O `+` indica uma ou repetições do elemento anterior.\n"
   ]
  },
  {
   "cell_type": "code",
   "execution_count": 19,
   "metadata": {},
   "outputs": [
    {
     "data": {
      "text/plain": [
       "<re.Match object; span=(11, 13), match='18'>"
      ]
     },
     "execution_count": 19,
     "metadata": {},
     "output_type": "execute_result"
    }
   ],
   "source": [
    "p = re.compile(r'[0-9]+')\n",
    "p.search(frase)"
   ]
  },
  {
   "cell_type": "code",
   "execution_count": 15,
   "metadata": {},
   "outputs": [
    {
     "name": "stdout",
     "output_type": "stream",
     "text": [
      "None\n"
     ]
    }
   ],
   "source": [
    "match = re.match(r'\\d+', frase)\n",
    "print(match)"
   ]
  },
  {
   "cell_type": "markdown",
   "metadata": {},
   "source": [
    "Como se referiu, o `search` e o `match` têm comportamentos ligeiramente diferentes.\n",
    "\n",
    "O `match` não encontra o padrão, a não ser no início."
   ]
  },
  {
   "cell_type": "code",
   "execution_count": 2,
   "metadata": {},
   "outputs": [
    {
     "name": "stdout",
     "output_type": "stream",
     "text": [
      "<re.Match object; span=(0, 4), match='1975'>\n",
      "1975\n",
      "None\n"
     ]
    }
   ],
   "source": [
    "import re \n",
    "\n",
    "pal1 = \"1975, ano de boa produção\"\n",
    "pal2 = \"Viva o 1 de dezembro\"\n",
    "match1 = re.match(r'\\d+', pal1)\n",
    "print(match1)\n",
    "print(match1[0])\n",
    "match2 = re.match(r'\\d+', pal2)\n",
    "print(match2)"
   ]
  },
  {
   "cell_type": "markdown",
   "metadata": {},
   "source": [
    "Quando se quer encontrar mais do que uma ocorrência, usa-se a função `findall()`."
   ]
  },
  {
   "cell_type": "code",
   "execution_count": 9,
   "metadata": {},
   "outputs": [
    {
     "name": "stdout",
     "output_type": "stream",
     "text": [
      "['2004', '2006']\n"
     ]
    }
   ],
   "source": [
    "# match = re.findall(r'\\d+', frase)\n",
    "match = re.findall(r'\\d{4}', frase)\n",
    "\n",
    "print(match)"
   ]
  },
  {
   "cell_type": "code",
   "execution_count": 7,
   "metadata": {},
   "outputs": [
    {
     "data": {
      "text/plain": [
       "['O',\n",
       " 'João',\n",
       " 'tem',\n",
       " '18',\n",
       " 'anos',\n",
       " 'e',\n",
       " 'nasceu',\n",
       " 'em',\n",
       " '2004',\n",
       " '2',\n",
       " 'anos',\n",
       " 'antes',\n",
       " 'da',\n",
       " 'Inês',\n",
       " 'que',\n",
       " 'agora',\n",
       " 'tem',\n",
       " '16']"
      ]
     },
     "execution_count": 7,
     "metadata": {},
     "output_type": "execute_result"
    }
   ],
   "source": [
    "re.findall(r'\\w+', frase)"
   ]
  },
  {
   "cell_type": "markdown",
   "metadata": {},
   "source": [
    "Se for importante saber a posição onde ocorre cada instância do padrão, pode-se usar a função `finditer()`"
   ]
  },
  {
   "cell_type": "code",
   "execution_count": 34,
   "metadata": {},
   "outputs": [
    {
     "name": "stdout",
     "output_type": "stream",
     "text": [
      "11-13: 18\n",
      "31-35: 2004\n",
      "37-38: 2\n",
      "72-74: 16\n"
     ]
    }
   ],
   "source": [
    "for m in re.finditer(r'\\d+', frase):\n",
    "    print('{}-{}: {}'.format(m.start(), m.end(), m.group(0)))\n"
   ]
  },
  {
   "cell_type": "markdown",
   "metadata": {},
   "source": [
    "Com a função `sub()` pode-se substituir cada match com o valor retornado pela função aplicada ao match."
   ]
  },
  {
   "cell_type": "code",
   "execution_count": 10,
   "metadata": {},
   "outputs": [
    {
     "data": {
      "text/plain": [
       "'O João tem 0x12 anos e nasceu em 0x7d4, 0x2 anos antes da Inês que agora tem 0x10, que nasceu em 0x7d6'"
      ]
     },
     "execution_count": 10,
     "metadata": {},
     "output_type": "execute_result"
    }
   ],
   "source": [
    "def tohex(match):\n",
    "    return(hex(int(match[0])))\n",
    "\n",
    "re.sub(r\"\\d+\", tohex, frase)"
   ]
  },
  {
   "cell_type": "markdown",
   "metadata": {},
   "source": [
    "#### Grupos\n",
    "\n",
    "A função match permite agrupar partes do padrão. Esses grupos podem ser usados para aceder a cada uma das partes da entrada que fez match com o grupo.\n",
    "\n",
    "No exemplo seguinte, usam-se três grupos.\n",
    "\n",
    "No primeiro grupo, temos o dia, no segundo o mês e no terceiro o ano."
   ]
  },
  {
   "cell_type": "code",
   "execution_count": 3,
   "metadata": {},
   "outputs": [
    {
     "name": "stdout",
     "output_type": "stream",
     "text": [
      "1992 10 14\n"
     ]
    }
   ],
   "source": [
    "nascimento = \"14/10/1992\"\n",
    "# nascimento = \"14-10-1992\"\n",
    "\n",
    "m = re.match(r\"(\\d\\d)[/-](\\d\\d)[/-](\\d\\d\\d\\d)\", nascimento)\n",
    "\n",
    "if m:\n",
    "    print( m.group(3), m.group(2), m.group(1) )"
   ]
  },
  {
   "cell_type": "markdown",
   "metadata": {},
   "source": [
    "A função `re.split()` é muito útil. É muito mais flexível que o método `split()` das strings."
   ]
  },
  {
   "cell_type": "code",
   "execution_count": 62,
   "metadata": {},
   "outputs": [
    {
     "data": {
      "text/plain": [
       "['Pires,', 'João', 'Paulo', '', '', '', 'Alves', 'Cabrita']"
      ]
     },
     "execution_count": 62,
     "metadata": {},
     "output_type": "execute_result"
    }
   ],
   "source": [
    "\"Pires, João Paulo    Alves Cabrita\".split(' ')"
   ]
  },
  {
   "cell_type": "code",
   "execution_count": 11,
   "metadata": {},
   "outputs": [
    {
     "data": {
      "text/plain": [
       "['Pires', 'João', 'Paulo', 'Alves', 'Cabrita', 'Corte', 'Real']"
      ]
     },
     "execution_count": 11,
     "metadata": {},
     "output_type": "execute_result"
    }
   ],
   "source": [
    "# e = re.compile(r'[^0-9a-zA-Z]+')\n",
    "e = re.compile(r'[ ,;]+')\n",
    "e.split(\"Pires,,,,João Paulo           Alves;Cabrita, Corte Real\") "
   ]
  },
  {
   "cell_type": "markdown",
   "metadata": {},
   "source": [
    "### Sequências\n",
    "\n",
    "Nos exemplos seguintes, usam-se sequências guardas no [Genbank](https://www.ncbi.nlm.nih.gov/genbank/). Estas estão guardadas num formato próprio, exemplificado no registo seguinte: https://www.ncbi.nlm.nih.gov/Sitemap/samplerecord.html\n",
    "\n",
    "Para os exercícios, descarregámos duas entradas, a partir dos links:\n",
    "- https://www.ncbi.nlm.nih.gov/nuccore/L42022\n",
    "- https://www.ncbi.nlm.nih.gov/nuccore/L42023\n",
    "\n",
    "Estão guardadas nos documentos `L42022.1.gb` e `L42023.1.gb`.\n",
    "\n",
    "Para ler um registo inteiro e guardá-lo numa string `locus`, usa-se o código Python seguinte:\n",
    "\n"
   ]
  },
  {
   "cell_type": "code",
   "execution_count": 5,
   "metadata": {},
   "outputs": [
    {
     "name": "stdout",
     "output_type": "stream",
     "text": [
      "LOCUS       HIVI5C                   231 bp    DNA     linear   VRL 24-MAR-1997\n",
      "DEFINITION  Human immunodeficiency virus type 1 (isolate genotype C, I5) gag\n",
      "            gene, partial cds.\n",
      "ACCESSION   L42022\n",
      "VERSION     L42022.1\n",
      "KEYWORDS    gag gene; p24 protein.\n",
      "SOURCE      Human immunodeficiency virus 1 (HIV-1)\n",
      "  ORGANISM  Human immunodeficiency virus 1\n",
      "            Viruses; Riboviria; Pararnavirae; Artverviricota; Revtraviricetes;\n",
      "            Ortervirales; Retroviridae; Orthoretrovirinae; Lentivirus.\n",
      "REFERENCE   1  (bases 1 to 231)\n",
      "  AUTHORS   Voevodin,A., Crandall,K.A., Seth,P. and al Mufti,S.\n",
      "  TITLE     HIV type 1 subtypes B and C from new regions of India and Indian\n",
      "            and Ethiopian expatriates in Kuwait\n",
      "  JOURNAL   AIDS Res. Hum. Retroviruses 12 (7), 641-643 (1996)\n",
      "   PUBMED   8743090\n",
      "FEATURES             Location/Qualifiers\n",
      "     source          1..231\n",
      "                     /organism=\"Human immunodeficiency virus 1\"\n",
      "                     /proviral\n",
      "                     /mol_type=\"genomic DNA\"\n",
      "                     /isolate=\"genotype C, I5\"\n",
      "                     /db_xref=\"taxon:11676\"\n",
      "     gene            1..231\n",
      "                     /gene=\"gag\"\n",
      "     CDS             <1..>231\n",
      "                     /gene=\"gag\"\n",
      "                     /codon_start=1\n",
      "                     /protein_id=\"AAB50165.1\"\n",
      "                     /translation=\"HPVHAGPIAPGQMREPRGSDIAGTTSTLQEQVAWMTGNPPVPVG\n",
      "                     EIYKRWIILGLNKIVRMYSPVSILDIKQGPKEP\"\n",
      "ORIGIN      \n",
      "        1 catccagtac atgcagggcc tattgcacca ggccaaatga gagaaccaag gggaagtgac\n",
      "       61 atagcaggaa ctacaagtac ccttcaggaa caagtagcat ggatgacagg taacccacct\n",
      "      121 gttccagtgg gagaaatcta taaaagatgg ataattctgg gattaaataa aatagtaaga\n",
      "      181 atgtatagcc ctgtcagcat tttggacata aaacaagggc caaaggaacc c\n",
      "//\n",
      "\n",
      "\n"
     ]
    }
   ],
   "source": [
    "import re\n",
    "\n",
    "fonte = open(\"L42022.1.gb\",'r')\n",
    "locus = fonte.read()\n",
    "fonte.close()\n",
    "print( locus )"
   ]
  },
  {
   "cell_type": "markdown",
   "metadata": {},
   "source": [
    "Tenha em atenção que a string contém `\\n` (mudanças de linha). Pode-se ter que usar as flags `re.DOTALL` ou `re.MULTILINE`.\n",
    "\n",
    "Sendo `locus` um string com o conteúdo do registo, pode-se verificar se existem determinados padrões com a função `search`."
   ]
  },
  {
   "cell_type": "code",
   "execution_count": 6,
   "metadata": {},
   "outputs": [
    {
     "data": {
      "text/plain": [
       "<re.Match object; span=(207, 227), match='VERSION     L42022.1'>"
      ]
     },
     "execution_count": 6,
     "metadata": {},
     "output_type": "execute_result"
    }
   ],
   "source": [
    "\n",
    "re.search(\"VERSION\\s+[\\w.]+\", locus)"
   ]
  },
  {
   "cell_type": "markdown",
   "metadata": {},
   "source": [
    "Versão com a flag `re.MULTILINE`, para garantir que o padrão VERSION aparece no início de uma linha (usando o `^`):"
   ]
  },
  {
   "cell_type": "code",
   "execution_count": 8,
   "metadata": {},
   "outputs": [
    {
     "data": {
      "text/plain": [
       "<re.Match object; span=(207, 227), match='VERSION     L42022.1'>"
      ]
     },
     "execution_count": 8,
     "metadata": {},
     "output_type": "execute_result"
    }
   ],
   "source": [
    "\n",
    "re.search(\"^VERSION\\s+[\\w.]+\", locus, re.MULTILINE)"
   ]
  },
  {
   "cell_type": "markdown",
   "metadata": {},
   "source": [
    "Procurar as linhas onde aparece a sequência:"
   ]
  },
  {
   "cell_type": "code",
   "execution_count": 9,
   "metadata": {},
   "outputs": [
    {
     "data": {
      "text/plain": [
       "['        1 catccagtac atgcagggcc tattgcacca ggccaaatga gagaaccaag gggaagtgac',\n",
       " '       61 atagcaggaa ctacaagtac ccttcaggaa caagtagcat ggatgacagg taacccacct',\n",
       " '      121 gttccagtgg gagaaatcta taaaagatgg ataattctgg gattaaataa aatagtaaga',\n",
       " '      181 atgtatagcc ctgtcagcat tttggacata aaacaagggc caaaggaacc c']"
      ]
     },
     "execution_count": 9,
     "metadata": {},
     "output_type": "execute_result"
    }
   ],
   "source": [
    "re.findall(\"^\\s+\\d+ [actg ]+\", locus, re.MULTILINE)"
   ]
  },
  {
   "cell_type": "markdown",
   "metadata": {},
   "source": [
    "### Exercício (resolvido)\n",
    "\n",
    "Dado uma entrada do genbank (como a do exemplo anterior), escreva um pequeno programa que, dado um registo, dá o link para o Genbank onde o mesmo aparece. \n",
    "\n",
    "Exemplo:\n",
    "\n",
    "dados o seguinte registo em texto (abreviado):\n",
    "```\n",
    "LOCUS       L42023               1830138 bp    DNA     circular BCT 31-JAN-2014\n",
    "DEFINITION  Haemophilus influenzae Rd KW20, complete genome.\n",
    "ACCESSION   L42023 U32686-U32848\n",
    "VERSION     L42023.1  GI:6626252\n",
    "DBLINK      BioProject: PRJNA219\n",
    "            BioSample: SAMN02603991\n",
    "KEYWORDS    .\n",
    "SOURCE      Haemophilus influenzae Rd KW20\n",
    "  ORGANISM  Haemophilus influenzae Rd KW20\n",
    "(...)\n",
    "```\n",
    "\n",
    "O resultado deveria ser:\n",
    "```\n",
    "https://www.ncbi.nlm.nih.gov/nuccore/L42022\n",
    "```"
   ]
  },
  {
   "cell_type": "code",
   "execution_count": 49,
   "metadata": {},
   "outputs": [
    {
     "name": "stdout",
     "output_type": "stream",
     "text": [
      "https://www.ncbi.nlm.nih.gov/nuccore/L42023\n"
     ]
    }
   ],
   "source": [
    "import re\n",
    "\n",
    "# fonte = open(\"L42022.1.gb\",'r')\n",
    "fonte = open(\"L42023.1.gb\",'r')\n",
    "locus = fonte.read()\n",
    "fonte.close()\n",
    "\n",
    "existe = re.search(r'ACCESSION\\s+[^\\s]+', locus)\n",
    "if existe:\n",
    "    # print( existe[0] )\n",
    "    m = re.match(r'ACCESSION\\s+([^\\s]+)', existe[0] )\n",
    "    if m:\n",
    "        id = m.group(1)\n",
    "        print( \"https://www.ncbi.nlm.nih.gov/nuccore/{}\".format( id ) )\n",
    "else:\n",
    "    print( \"Padrão não encontrado\" )"
   ]
  },
  {
   "cell_type": "markdown",
   "metadata": {},
   "source": [
    "### Exercício\n",
    "\n",
    "Dado uma entrada do genbank (como a do exemplo anterior), escreva um pequeno programa que, dado um registo, dá a respetiva definição.\n",
    "\n",
    "Exemplo:\n",
    "\n",
    "dados o seguinte registo em texto (abreviado):\n",
    "```\n",
    "LOCUS       HIVI5C                   231 bp    DNA     linear   VRL 24-MAR-1997\n",
    "DEFINITION  Human immunodeficiency virus type 1 (isolate genotype C, I5) gag\n",
    "            gene, partial cds.\n",
    "ACCESSION   L42022\n",
    "VERSION     L42022.1\n",
    "KEYWORDS    gag gene; p24 protein.\n",
    "SOURCE      Human immunodeficiency virus 1 (HIV-1)\n",
    "  ORGANISM  Human immunodeficiency virus 1\n",
    "            Viruses; Riboviria; Pararnavirae; Artverviricota; Revtraviricetes;\n",
    "            Ortervirales; Retroviridae; Orthoretrovirinae; Lentivirus.\n",
    "REFERENCE   1  (bases 1 to 231)\n",
    "  AUTHORS   Voevodin,A., Crandall,K.A., Seth,P. and al Mufti,S.\n",
    "  TITLE     HIV type 1 subtypes B and C from new regions of India and Indian\n",
    "            and Ethiopian expatriates in Kuwait\n",
    "  JOURNAL   AIDS Res. Hum. Retroviruses 12 (7), 641-643 (1996)\n",
    "   PUBMED   8743090\n",
    "(...)\n",
    "```\n",
    "\n",
    "O resultado deveria ser:\n",
    "```\n",
    "Human immunodeficiency virus type 1 (isolate genotype C, I5) gag gene, partial cds.\n",
    "```"
   ]
  },
  {
   "cell_type": "code",
   "execution_count": 48,
   "metadata": {},
   "outputs": [
    {
     "name": "stdout",
     "output_type": "stream",
     "text": [
      "Human immunodeficiency virus type 1 (isolate genotype C, I5) gag gene, partial cds.\n"
     ]
    }
   ],
   "source": [
    "# resposta  ------------------------------------------------------------------------ não é universal\n",
    "# import re\n",
    "\n",
    "# fonte = open(\"L42022.1.gb\",'r')\n",
    "# locus = fonte.read()\n",
    "# fonte.close()\n",
    "\n",
    "# existe = re.search(r'DEFINITION\\s+([\\w+\\s]+.+\\n\\s+\\w+.+)', locus)\n",
    "# if existe:\n",
    "#     #print( existe[1] )\n",
    "#     print(re.sub(r\"\\s{2}\", \"\", existe[1]))"
   ]
  },
  {
   "cell_type": "code",
   "execution_count": 98,
   "metadata": {},
   "outputs": [
    {
     "name": "stdout",
     "output_type": "stream",
     "text": [
      "Human immunodeficiency virus type 1 (isolate genotype C, I5) gag gene, partial cds.\n",
      "\n"
     ]
    }
   ],
   "source": [
    "# resposta\n",
    "import re\n",
    "\n",
    "fonte = open(\"L42022.1.gb\",'r')\n",
    "locus = fonte.read()\n",
    "fonte.close()\n",
    "\n",
    "existe = re.findall(r'DEFINITION(\\s+.*?(?=ACCESSION))', locus, re.DOTALL)\n",
    "if existe:\n",
    "    print(re.sub(r\"\\s{2}\", \"\", existe[0]))"
   ]
  },
  {
   "cell_type": "markdown",
   "metadata": {},
   "source": [
    "### Exercício (resolvido)\n",
    "\n",
    "Dado uma entrada do genbank (como a do exemplo anterior), escreva um pequeno programa que, dado um registo, dá todos os títulos das referências que aparecem no registo.\n",
    "\n",
    "Exemplo:\n",
    "\n",
    "dados o seguinte registo em texto (abreviado):\n",
    "```\n",
    "LOCUS       HIVI5C                   231 bp    DNA     linear   VRL 24-MAR-1997\n",
    "DEFINITION  Human immunodeficiency virus type 1 (isolate genotype C, I5) gag\n",
    "            gene, partial cds.\n",
    "ACCESSION   L42022\n",
    "VERSION     L42022.1\n",
    "KEYWORDS    gag gene; p24 protein.\n",
    "SOURCE      Human immunodeficiency virus 1 (HIV-1)\n",
    "  ORGANISM  Human immunodeficiency virus 1\n",
    "            Viruses; Riboviria; Pararnavirae; Artverviricota; Revtraviricetes;\n",
    "            Ortervirales; Retroviridae; Orthoretrovirinae; Lentivirus.\n",
    "REFERENCE   1  (bases 1 to 231)\n",
    "  AUTHORS   Voevodin,A., Crandall,K.A., Seth,P. and al Mufti,S.\n",
    "  TITLE     HIV type 1 subtypes B and C from new regions of India and Indian\n",
    "            and Ethiopian expatriates in Kuwait\n",
    "  JOURNAL   AIDS Res. Hum. Retroviruses 12 (7), 641-643 (1996)\n",
    "   PUBMED   8743090\n",
    "(...)\n",
    "```\n",
    "\n",
    "O resultado deveria ser:\n",
    "```\n",
    "HIV type 1 subtypes B and C from new regions of India and Indian and Ethiopian expatriates in Kuwait\n",
    "```"
   ]
  },
  {
   "cell_type": "code",
   "execution_count": 93,
   "metadata": {},
   "outputs": [
    {
     "name": "stdout",
     "output_type": "stream",
     "text": [
      "Whole-genome random sequencing and assembly of Haemophilus influenzae Rd \n",
      "Metabolism and evolution of Haemophilus influenzae deduced from a whole-genome comparison with Escherichia coli \n",
      "Direct Submission \n",
      "Direct Submission \n",
      "Direct Submission \n"
     ]
    }
   ],
   "source": [
    "import re\n",
    "\n",
    "# fonte = open(\"L42022.1.gb\",'r')\n",
    "fonte = open(\"L42023.1.gb\",'r')\n",
    "locus = fonte.read()\n",
    "fonte.close()\n",
    "\n",
    "# ver https://docs.python.org/3/howto/regex.html#lookahead-assertions\n",
    "# ver https://docs.python.org/3/howto/regex.html#greedy-versus-non-greedy\n",
    "existe = re.findall(r'TITLE\\s+.*?(?=JOURNAL)', locus, re.DOTALL)\n",
    "if existe:\n",
    "    for title in existe:\n",
    "        m = re.match( r'TITLE\\s+(.+)', title, re.DOTALL )\n",
    "        #print( m.group(1) )\n",
    "        print( re.sub(r'\\s+', ' ', m.group(1) ) )"
   ]
  },
  {
   "cell_type": "markdown",
   "metadata": {},
   "source": [
    "### Exercício\n",
    "\n",
    "Dado uma entrada do genbank (como a do exemplo anterior), escreva um pequeno programa que, dado um registo, dá a sequência que aparece no final.\n",
    "\n",
    "A sequência deve ser apresentada numa única linha, sem espaços e sem outras eltas, a não ser a, c, t e g.\n",
    "\n",
    "Exemplo:\n",
    "\n",
    "dados o seguinte registo em texto (abreviado):\n",
    "```\n",
    "LOCUS       HIVI5C                   231 bp    DNA     linear   VRL 24-MAR-1997\n",
    "DEFINITION  Human immunodeficiency virus type 1 (isolate genotype C, I5) gag\n",
    "            gene, partial cds.\n",
    "ACCESSION   L42022\n",
    "VERSION     L42022.1\n",
    "KEYWORDS    gag gene; p24 protein.\n",
    "SOURCE      Human immunodeficiency virus 1 (HIV-1)\n",
    "  ORGANISM  Human immunodeficiency virus 1\n",
    "            Viruses; Riboviria; Pararnavirae; Artverviricota; Revtraviricetes;\n",
    "            Ortervirales; Retroviridae; Orthoretrovirinae; Lentivirus.\n",
    "REFERENCE   1  (bases 1 to 231)\n",
    "  AUTHORS   Voevodin,A., Crandall,K.A., Seth,P. and al Mufti,S.\n",
    "  TITLE     HIV type 1 subtypes B and C from new regions of India and Indian\n",
    "            and Ethiopian expatriates in Kuwait\n",
    "  JOURNAL   AIDS Res. Hum. Retroviruses 12 (7), 641-643 (1996)\n",
    "   PUBMED   8743090\n",
    "(...)\n",
    "                     EIYKRWIILGLNKIVRMYSPVSILDIKQGPKEP\"\n",
    "ORIGIN      \n",
    "        1 catccagtac atgcagggcc tattgcacca ggccaaatga gagaaccaag gggaagtgac\n",
    "       61 atagcaggaa ctacaagtac ccttcaggaa caagtagcat ggatgacagg taacccacct\n",
    "      121 gttccagtgg gagaaatcta taaaagatgg ataattctgg gattaaataa aatagtaaga\n",
    "      181 atgtatagcc ctgtcagcat tttggacata aaacaagggc caaaggaacc c\n",
    "//\n",
    "```\n",
    "\n",
    "O resultado deveria ser:\n",
    "```\n",
    "catccagtacatgcagggcctattgcaccaggccaaatgagagaaccaaggggaagtgacatagcaggaactacaagtacccttcaggaacaagtagcatggatgacaggtaacccacctgttccagtgggagaaatctataaaagatggataattctgggattaaataaaatagtaagaatgtatagccctgtcagcattttggacataaaacaagggccaaaggaaccc\n",
    "```"
   ]
  },
  {
   "cell_type": "code",
   "execution_count": 108,
   "metadata": {},
   "outputs": [
    {
     "name": "stdout",
     "output_type": "stream",
     "text": [
      "catccagtacatgcagggcctattgcaccaggccaaatgagagaaccaaggggaagtgacatagcaggaactacaagtacccttcaggaacaagtagcatggatgacaggtaacccacctgttccagtgggagaaatctataaaagatggataattctgggattaaataaaatagtaagaatgtatagccctgtcagcattttggacataaaacaagggccaaaggaaccc\n"
     ]
    }
   ],
   "source": [
    "# resposta\n",
    "import re\n",
    "\n",
    "fonte = open(\"L42022.1.gb\",'r')\n",
    "locus = fonte.read()\n",
    "fonte.close()\n",
    "\n",
    "existe = re.findall(r'ORIGIN\\s+(.*?(?=//))', locus, re.DOTALL)\n",
    "if existe:\n",
    "    beta=re.sub(r\"\\s+\", \"\", existe[0])\n",
    "    print(re.sub(r\"\\d\", \"\", beta))"
   ]
  },
  {
   "cell_type": "markdown",
   "metadata": {},
   "source": [
    "### Exercício\n",
    "\n",
    "Dado uma entrada do genbank (como a do exemplo anterior), escreva um pequeno programa que, dado um registo, dá a lista de proteínas (só o identificador) que são codificadas a partir de partes da sequência de DNA.\n",
    "\n",
    "Opcionalmente, em vez de apresentar só o identificador da proteína, apresente o URL necessário para consultar mais informações sobre a mesma. O URL tem a seguinte forma: base + sufixo, em que a base é `https://www.ncbi.nlm.nih.gov/protein/` e o sufixo é o identificador da proteína.\n",
    "\n",
    "Exemplo:\n",
    "\n",
    "dados o seguinte registo em texto (abreviado):\n",
    "```\n",
    "LOCUS       HIVI5C                   231 bp    DNA     linear   VRL 24-MAR-1997\n",
    "DEFINITION  Human immunodeficiency virus type 1 (isolate genotype C, I5) gag\n",
    "            gene, partial cds.\n",
    "ACCESSION   L42022\n",
    "VERSION     L42022.1\n",
    "(...)\n",
    "FEATURES             Location/Qualifiers\n",
    "     source          1..231\n",
    "                     /organism=\"Human immunodeficiency virus 1\"\n",
    "                     /proviral\n",
    "                     /mol_type=\"genomic DNA\"\n",
    "                     /isolate=\"genotype C, I5\"\n",
    "                     /db_xref=\"taxon:11676\"\n",
    "     gene            1..231\n",
    "                     /gene=\"gag\"\n",
    "     CDS             <1..>231\n",
    "                     /gene=\"gag\"\n",
    "                     /codon_start=1\n",
    "                     /protein_id=\"AAB50165.1\"\n",
    "                     /translation=\"HPVHAGPIAPGQMREPRGSDIAGTTSTLQEQVAWMTGNPPVPVG\n",
    "                     EIYKRWIILGLNKIVRMYSPVSILDIKQGPKEP\"\n",
    "ORIGIN      \n",
    "        1 catccagtac atgcagggcc tattgcacca ggccaaatga gagaaccaag gggaagtgac\n",
    "       61 atagcaggaa ctacaagtac ccttcaggaa caagtagcat ggatgacagg taacccacct\n",
    "      121 gttccagtgg gagaaatcta taaaagatgg ataattctgg gattaaataa aatagtaaga\n",
    "      181 atgtatagcc ctgtcagcat tttggacata aaacaagggc caaaggaacc c\n",
    "//\n",
    "```\n",
    "\n",
    "O resultado deveria ser:\n",
    "```\n",
    "AAB50165.1\n",
    "```\n",
    "\n",
    "Em alternativa, o resultado poderia ser:\n",
    "```\n",
    "https://www.ncbi.nlm.nih.gov/protein/AAB50165.1\n",
    "```\n"
   ]
  },
  {
   "cell_type": "code",
   "execution_count": 4,
   "metadata": {
    "scrolled": false
   },
   "outputs": [
    {
     "name": "stdout",
     "output_type": "stream",
     "text": [
      "['AAC21680.1', 'AAC21681.1', 'AAC21682.1', 'AAC21683.1', 'AAC21684.1', 'AAC21685.1', 'AAC21686.1', 'AAC21687.1', 'AAC21688.1', 'AAC21689.1', 'AAC21690.1', 'AAC21691.1', 'AAC21692.1', 'AAC21693.1', 'AAC21694.1', 'AAC21695.1', 'AAC21696.1', 'AAC21697.1', 'AAC21698.1', 'AAC21699.1', 'AAC21700.1', 'AAC21701.1', 'AAC21702.1', 'AAC21703.1', 'AAC21704.1', 'AAC21705.1', 'AAC21706.1', 'AAC21707.1', 'AAC21708.1', 'AAC21709.1', 'AAC21710.1', 'AAC21711.1', 'AAC21712.1', 'AAC21713.1', 'AAC21714.1', 'AAC21715.1', 'AAC21716.1', 'AAC21717.1', 'AAC21718.1', 'AAC21719.1', 'AAC21720.1', 'AAC21721.1', 'AAC21722.1', 'AAC21723.1', 'AAC21724.1', 'AAC21725.1', 'AAC21726.1', 'AAC21727.1', 'AAC21728.1', 'AAC21729.1', 'AAC21730.1', 'AAC21731.1', 'AAC21732.1', 'AAC21733.1', 'AAC21734.1', 'AAC21735.1', 'AAC21736.1', 'AAC21737.1', 'AAC21738.1', 'AAC21739.1', 'AAC21740.1', 'AAC21741.1', 'AAC21742.1', 'AAC21743.1', 'AAC21744.1', 'AAC21745.1', 'AAC21746.1', 'AAC21747.1', 'AAC21748.1', 'AAC21749.1', 'AAC21750.1', 'AAC21758.1', 'AAC21759.1', 'AAC21751.1', 'AAC21752.1', 'AAC21760.1', 'AAC21753.1', 'AAC21754.1', 'AAC21755.1', 'AAC21756.1', 'AAC21761.1', 'AAC21762.1', 'AAC21757.1', 'AAC21763.1', 'AAC21764.1', 'AAC21765.1', 'AAC21766.1', 'AAC21767.1', 'AAC21768.1', 'AAC21769.1', 'AAC21770.1', 'AAC21771.1', 'AAC21779.1', 'AAC21772.1', 'AAC21780.1', 'AAC21773.1', 'AAC21774.1', 'AAC21775.1', 'AAC21781.1', 'AAC21782.1', 'AAC21776.1', 'AAC21777.1', 'AAC21778.1', 'AAC21783.1', 'AAC21784.1', 'AAC21785.1', 'AAC21786.1', 'AAC21790.1', 'AAC21787.1', 'AAC21788.1', 'AAC21791.1', 'AAC21789.1', 'AAC21792.1', 'AAC21793.1', 'AAC21794.1', 'AAC21801.1', 'AAC21795.1', 'AAC21796.1', 'AAC21797.1', 'AAC21798.1', 'AAC21799.1', 'AAC21800.1', 'AAC21802.1', 'AAC21803.1', 'AAC21804.1', 'AAC21805.1', 'AAC21811.1', 'AAC21806.1', 'AAC21807.1', 'AAC21808.1', 'AAC21809.1', 'AAC21810.1', 'AAC21812.1', 'AAC21813.1', 'AAC21814.1', 'AAC21815.1', 'AAC21816.1', 'AAC21817.1', 'AAC21818.1', 'AAC21819.1', 'AAC21820.1', 'AAC21832.1', 'AAC21830.1', 'AAC21821.1', 'AAC21822.1', 'AAC21831.1', 'AAC21823.1', 'AAC21824.1', 'AAC21825.1', 'AAC21826.1', 'AAC21827.1', 'AAC21828.1', 'AAC21829.1', 'AAC21833.1', 'AAC21834.1', 'AAC21835.1', 'AAC21836.1', 'AAC21837.1', 'AAC21838.1', 'AAC21839.1', 'AAC21840.1', 'AAC21841.1', 'AAC21842.1', 'AAC21846.1', 'AAC21843.1', 'AAC21844.1', 'AAC21845.1', 'AAC21847.1', 'AAC21855.1', 'AAC21848.1', 'AAC21849.1', 'AAC21850.1', 'AAC21851.1', 'AAC21852.1', 'AAC21853.1', 'AAC21854.1', 'AAC21856.1', 'AAC21857.1', 'AAC21858.1', 'AAC21859.1', 'AAC21860.1', 'AAC21862.1', 'AAC21861.1', 'AAC21863.1', 'AAC21864.1', 'AAC21865.1', 'AAC21866.1', 'AAC21867.1', 'AAC21868.1', 'AAC21869.1', 'AAC21870.1', 'AAC21871.1', 'AAC21872.1', 'AAC21873.1', 'AAC21878.1', 'AAC21874.1', 'AAC21875.1', 'AAC21876.1', 'AAC21877.1', 'AAC21885.1', 'AAC21879.1', 'AAC21880.1', 'AAC21881.1', 'AAC21886.1', 'AAC21882.1', 'AAC21883.1', 'AAC21884.1', 'AAC21887.1', 'AAC21888.1', 'AAC21889.1', 'AAC21890.1', 'AAC21895.1', 'AAC21891.1', 'AAC21892.1', 'AAC21893.1', 'AAC21894.1', 'AAC21896.1', 'AAC21897.1', 'AAC21902.1', 'AAC21898.1', 'AAC21899.1', 'AAC21900.1', 'AAC21901.1', 'AAC21903.1', 'AAC21904.1', 'AAC21905.1', 'AAC21906.1', 'AAC21907.1', 'AAC21908.1', 'AAC21909.1', 'AAC21910.1', 'AAC21913.1', 'AAC21911.1', 'AAC21912.1', 'AAC21914.1', 'AAC21915.1', 'AAC21916.1', 'AAC21917.1', 'AAC21918.1', 'AAC21919.1', 'AAC21920.1', 'AAC21921.1', 'AAC21922.1', 'AAC21923.1', 'AAC21924.1', 'AAC21925.1', 'AAC21931.1', 'AAC21926.1', 'AAC21927.1', 'AAC21928.1', 'AAC21929.1', 'AAC21930.1', 'AAC21932.1', 'AAC21933.1', 'AAC21934.1', 'AAC21935.1', 'AAC21936.1', 'AAC21937.1', 'AAC21938.1', 'AAC21939.1', 'AAC21940.1', 'AAC21949.1', 'AAC21941.1', 'AAC21942.1', 'AAC21950.1', 'AAC21951.1', 'AAC21943.1', 'AAC21944.1', 'AAC21945.1', 'AAC21946.1', 'AAC21947.1', 'AAC21948.1', 'AAC21952.1', 'AAC21953.1', 'AAC21954.1', 'AAC21955.1', 'AAC21964.1', 'AAC21956.1', 'AAC21957.1', 'AAC21958.1', 'AAC21959.1', 'AAC21960.1', 'AAC21961.1', 'AAC21962.1', 'AAC21963.1', 'AAC21965.1', 'AAC21966.1', 'AAC21967.1', 'AAC21968.1', 'AAC21969.1', 'AAC21970.1', 'AAC21971.1', 'AAC21972.1', 'AAC21973.1', 'AAC21974.1', 'AAC21977.1', 'AAC21975.1', 'AAC21976.1', 'AAC21978.1', 'AAC21979.1', 'AAC21980.1', 'AAC21981.1', 'AAC21982.1', 'AAC21983.1', 'AAC21984.1', 'AAC21985.1', 'AAC21986.1', 'AAC21987.1', 'AAC21988.1', 'AAC21991.1', 'AAC21989.1', 'AAC21990.1', 'AAC21992.1', 'AAC21993.1', 'AAC21994.1', 'AAC21995.1', 'AAC21996.1', 'AAC21997.1', 'AAC21998.1', 'AAC21999.1', 'AAC22000.1', 'AAC22001.1', 'AAC22002.1', 'AAC22003.1', 'AAC22004.1', 'AAC22005.1', 'AAC22006.1', 'AAC22007.1', 'AAC22008.1', 'AAC22009.1', 'AAC22010.1', 'AAC22011.1', 'AAC22012.1', 'AAC22013.1', 'AAC22014.1', 'AAC22015.1', 'AAC22016.1', 'AAC22017.1', 'AAC22018.1', 'AAC22019.1', 'AAC22020.1', 'AAC22021.1', 'AAC22022.1', 'AAC22023.1', 'AAC22024.1', 'AAC22025.1', 'AAC22026.1', 'AAC22027.1', 'AAC22028.1', 'AAC22029.1', 'AAC22030.1', 'AAC22031.1', 'AAC22036.1', 'AAC22032.1', 'AAC22033.1', 'AAC22034.1', 'AAC22035.1', 'AAC22037.1', 'AAC22038.1', 'AAC22039.1', 'AAC22040.1', 'AAC22041.1', 'AAC22042.1', 'AAC22043.1', 'AAC22044.1', 'AAC22045.1', 'AAC22046.1', 'AAC22047.1', 'AAC22049.1', 'AAC22048.1', 'AAC22050.1', 'AAC22051.1', 'AAC22052.1', 'AAC22053.1', 'AAC22054.1', 'AAC22055.1', 'AAC22056.1', 'AAC22057.1', 'AAC22058.1', 'AAC22059.1', 'AAC22060.1', 'AAC22061.1', 'AAC22062.1', 'AAC22063.1', 'AAC22064.1', 'AAC22065.1', 'AAC22066.1', 'AAC22067.1', 'AAC22068.1', 'AAC22069.1', 'AAC22070.1', 'AAC22071.1', 'AAC22072.1', 'AAC22081.1', 'AAC22073.1', 'AAC22074.1', 'AAC22075.1', 'AAC22076.1', 'AAC22077.1', 'AAC22082.1', 'AAC22083.1', 'AAC22078.1', 'AAC22079.1', 'AAC22080.1', 'AAC22084.1', 'AAC22085.1', 'AAC22086.1', 'AAC22087.1', 'AAC22088.1', 'AAC22089.1', 'AAC22090.1', 'AAC22091.1', 'AAC22092.1', 'AAC22093.1', 'AAC22094.1', 'AAC22095.1', 'AAC22096.1', 'AAC22097.1', 'AAC22098.1', 'AAC22099.1', 'AAC22100.1', 'AAC22101.1', 'AAC22102.1', 'AAC22103.1', 'AAC22104.1', 'AAC22105.1', 'AAC22106.1', 'AAC22107.1', 'AAC22120.1', 'AAC22108.1', 'AAC22109.1', 'AAC22110.1', 'AAC22111.1', 'AAC22112.1', 'AAC22113.1', 'AAC22114.1', 'AAC22115.1', 'AAC22116.1', 'AAC22117.1', 'AAC22118.1', 'AAC22119.1', 'AAC22121.1', 'AAC22122.1', 'AAC22123.1', 'AAC22124.1', 'AAC22125.1', 'AAC22126.1', 'AAC22127.1', 'AAC22128.1', 'AAC22129.1', 'AAC22130.1', 'AAC22131.1', 'AAC22132.1', 'AAC22133.1', 'AAC22134.1', 'AAC22144.1', 'AAC22135.1', 'AAC22136.1', 'AAC22137.1', 'AAC22138.1', 'AAC22139.1', 'AAC22140.1', 'AAC22141.1', 'AAC22142.1', 'AAC22143.1', 'AAC22145.1', 'AAC22146.1', 'AAC22157.1', 'AAC22147.1', 'AAC22148.1', 'AAC22149.1', 'AAC22150.1', 'AAC22151.1', 'AAC22152.1', 'AAC22153.1', 'AAC22154.1', 'AAC22155.1', 'AAC22156.1', 'AAC22158.1', 'AAC22159.1', 'AAC22160.1', 'AAC22161.1', 'AAC22162.1', 'AAC22163.1', 'AAC22164.1', 'AAC22165.1', 'AAC22166.1', 'AAC22167.1', 'AAC22168.1', 'AAC22169.1', 'AAC22170.1', 'AAC22171.1', 'AAC22172.1', 'AAC22173.1', 'AAC22174.1', 'AAC22175.1', 'AAC22176.1', 'AAC22177.1', 'AAC22178.1', 'AAC22179.1', 'AAC22180.1', 'AAC22181.1', 'AAC22182.1', 'AAC22183.1', 'AAC22192.1', 'AAC22184.1', 'AAC22185.1', 'AAC22186.1', 'AAC22187.1', 'AAC22188.1', 'AAC22189.1', 'AAC22190.1', 'AAC22191.1', 'AAC22193.1', 'AAC22194.1', 'AAC22195.1', 'AAC22196.1', 'AAC22197.1', 'AAC22198.1', 'AAC22199.1', 'AAC22200.1', 'AAC22201.1', 'AAC22202.1', 'AAC22203.1', 'AAC22204.1', 'AAC22205.1', 'AAC22206.1', 'AAC22207.1', 'AAC22208.1', 'AAC22209.1', 'AAC22216.1', 'AAC22210.1', 'AAC22217.1', 'AAC22211.1', 'AAC22212.1', 'AAC22218.1', 'AAC22213.1', 'AAC22214.1', 'AAC22219.1', 'AAC22215.1', 'AAC22220.1', 'AAC22221.1', 'AAC22222.1', 'AAC22223.1', 'AAC22224.1', 'AAC22225.1', 'AAC22226.1', 'AAC22227.1', 'AAC22228.1', 'AAC22229.1', 'AAC22230.1', 'AAC22231.1', 'AAC22232.1', 'AAC22233.1', 'AAC22234.1', 'AAC22235.1', 'AAC22241.1', 'AAC22236.1', 'AAC22237.1', 'AAC22238.1', 'AAC22239.1', 'AAC22240.1', 'AAC22242.1', 'AAC22243.1', 'AAC22249.1', 'AAC22250.1', 'AAC22244.1', 'AAC22245.1', 'AAC22246.1', 'AAC22247.1', 'AAC22248.1', 'AAC22259.1', 'AAC22251.1', 'AAC22252.1', 'AAC22253.1', 'AAC22254.1', 'AAC22255.1', 'AAC22256.1', 'AAC22257.1', 'AAC22258.1', 'AAC22260.1', 'AAC22263.1', 'AAC22261.1', 'AAC22262.1', 'AAC22264.1', 'AAC22265.1', 'AAC22266.1', 'AAC22267.1', 'AAC22268.1', 'AAC22269.1', 'AAC22270.1', 'AAC22271.1', 'AAC22272.1', 'AAC22273.1', 'AAC22274.1', 'AAC22275.1', 'AAC22276.1', 'AAC22277.1', 'AAC22278.1', 'AAC22279.1', 'AAC22280.1', 'AAC22281.1', 'AAC22282.1', 'AAC22283.1', 'AAC22284.1', 'AAC22285.1', 'AAC22286.1', 'AAC22287.1', 'AAC22288.1', 'AAC22289.1', 'AAC22290.1', 'AAC22291.1', 'AAC22292.1', 'AAC22297.1', 'AAC22293.1', 'AAC22294.1', 'AAC22295.1', 'AAC22296.1', 'AAC22298.1', 'AAC22299.1', 'AAC22300.1', 'AAC22301.1', 'AAC22302.1', 'AAC22303.1', 'AAC22304.1', 'AAC22305.1', 'AAC22306.1', 'AAC22307.1', 'AAC22308.1', 'AAC22309.1', 'AAC22318.1', 'AAC22310.1', 'AAC22311.1', 'AAC22312.1', 'AAC22313.1', 'AAC22314.1', 'AAC22315.1', 'AAC22316.1', 'AAC22317.1', 'AAC22323.1', 'AAC22324.1', 'AAC22319.1', 'AAC22320.1', 'AAC22321.1', 'AAC22325.1', 'AAC22326.1', 'AAC22327.1', 'AAC22322.1', 'AAC22328.1', 'AAC22329.1', 'AAC22330.1', 'AAC22331.1', 'AAC22332.1', 'AAC22333.1', 'AAC22334.1', 'AAC22335.1', 'AAC22336.1', 'AAC22341.1', 'AAC22337.1', 'AAC22338.1', 'AAC22339.1', 'AAC22340.1', 'AAC22342.1', 'AAC22343.1', 'AAC22344.1', 'AAC22345.1', 'AAC22346.1', 'AAC22347.1', 'AAC22349.1', 'AAC22348.1', 'AAC22350.1', 'AAC22351.1', 'AAC22352.1', 'AAC22353.1', 'AAC22354.1', 'AAC22355.1', 'AAC22356.1', 'AAC22357.1', 'AAC22358.1', 'AAC22359.1', 'AAC22360.1', 'AAC22361.1', 'AAC22362.1', 'AAC22367.1', 'AAC22363.1', 'AAC22364.1', 'AAC22365.1', 'AAC22366.1', 'AAC22377.1', 'AAC22368.1', 'AAC22369.1', 'AAC22370.1', 'AAC22371.1', 'AAC22372.1', 'AAC22373.1', 'AAC22374.1', 'AAC22375.1', 'AAC22376.1', 'AAC22378.1', 'AAC22379.1', 'AAC22380.1', 'AAC22381.1', 'AAC22382.1', 'AAC22383.1', 'AAC22384.1', 'AAC22385.1', 'AAC22386.1', 'AAC22387.1', 'AAC22388.1', 'AAC22389.1', 'AAC22392.1', 'AAC22393.1', 'AAC22390.1', 'AAC22391.1', 'AAC22394.1', 'AAC22395.1', 'AAC22396.1', 'AAC22397.1', 'AAC22398.1', 'AAC22399.1', 'AAC22400.1', 'AAC22407.1', 'AAC22401.1', 'AAC22402.1', 'AAC22403.1', 'AAC22404.1', 'AAC22405.1', 'AAC22406.1', 'AAC22408.1', 'AAC22409.1', 'AAC22410.1', 'AAC22411.1', 'AAC22412.1', 'AAC22413.1', 'AAC22414.1', 'AAC22415.1', 'AAC22416.1', 'AAC22417.1', 'AAC22418.1', 'AAC22419.1', 'AAC22420.1', 'AAC22429.1', 'AAC22421.1', 'AAC22422.1', 'AAC22423.1', 'AAC22424.1', 'AAC22425.1', 'AAC22426.1', 'AAC22427.1', 'AAC22428.1', 'AAC22430.1', 'AAC22431.1', 'AAC22432.1', 'AAC22433.1', 'AAC22434.1', 'AAC22435.1', 'AAC22436.1', 'AAC22437.1', 'AAC22438.1', 'AAC22439.1', 'AAC22440.1', 'AAC22441.1', 'AAC22442.1', 'AAC22443.1', 'AAC22444.1', 'AAC22445.1', 'AAC22463.1', 'AAC22446.1', 'AAC22447.1', 'AAC22448.1', 'AAC22449.1', 'AAC22450.1', 'AAC22451.1', 'AAC22452.1', 'AAC22453.1', 'AAC22454.1', 'AAC22455.1', 'AAC22456.1', 'AAC22457.1', 'AAC22458.1', 'AAC22459.1', 'AAC22460.1', 'AAC22461.1', 'AAC22462.1', 'AAC22464.1', 'AAC22465.1', 'AAC22466.1', 'AAC22467.1', 'AAC22468.1', 'AAC22469.1', 'AAC22470.1', 'AAC22471.1', 'AAC22472.1', 'AAC22473.1', 'AAC22474.1', 'AAC22475.1', 'AAC22476.1', 'AAC22477.1', 'AAC22478.1', 'AAC22479.1', 'AAC22480.1', 'AAC22481.1', 'AAC22482.1', 'AAC22483.1', 'AAC22498.1', 'AAC22484.1', 'AAC22485.1', 'AAC22486.1', 'AAC22487.1', 'AAC22488.1', 'AAC22489.1', 'AAC22490.1', 'AAC22491.1', 'AAC22492.1', 'AAC22493.1', 'AAC22494.1', 'AAC22495.1', 'AAC22496.1', 'AAC22497.1', 'AAC22499.1', 'AAC22500.1', 'AAC22510.1', 'AAC22511.1', 'AAC22501.1', 'AAC22502.1', 'AAC22503.1', 'AAC22504.1', 'AAC22505.1', 'AAC22506.1', 'AAC22507.1', 'AAC22508.1', 'AAC22509.1', 'AAC22512.1', 'AAC22513.1', 'AAC22514.1', 'AAC22515.1', 'AAC22516.1', 'AAC22517.1', 'AAC22518.1', 'AAC22519.1', 'AAC22520.1', 'AAC22521.1', 'AAC22522.1', 'AAC22523.1', 'AAC22524.1', 'AAC22527.1', 'AAC22525.1', 'AAC22526.1', 'AAC22528.1', 'AAC22529.1', 'AAC22539.1', 'AAC22537.1', 'AAC22530.1', 'AAC22531.1', 'AAC22538.1', 'AAC22532.1', 'AAC22533.1', 'AAC22534.1', 'AAC22535.1', 'AAC22536.1', 'AAC22540.1', 'AAC22546.1', 'AAC22541.1', 'AAC22542.1', 'AAC22543.1', 'AAC22547.1', 'AAC22544.1', 'AAC22545.1', 'AAC22549.1', 'AAC22550.1', 'AAC22551.1', 'AAC22552.1', 'AAC22553.1', 'AAC22554.1', 'AAC22555.1', 'AAC22556.1', 'AAC22557.1', 'AAC22558.1', 'AAC22559.1', 'AAC22560.1', 'AAC22561.1', 'AAC22562.1', 'AAC22563.1', 'AAC22564.1', 'AAC22565.1', 'AAC22569.1', 'AAC22570.1', 'AAC22566.1', 'AAC22567.1', 'AAC22568.1', 'AAC22579.1', 'AAC22571.1', 'AAC22572.1', 'AAC22573.1', 'AAC22574.1', 'AAC22575.1', 'AAC22576.1', 'AAC22577.1', 'AAC22578.1', 'AAC22581.1', 'AAC22582.1', 'AAC22583.1', 'AAC22584.1', 'AAC22585.1', 'AAC22588.1', 'AAC22586.1', 'AAC22587.1', 'AAC22589.1', 'AAC22600.1', 'AAC22601.1', 'AAC22590.1', 'AAC22591.1', 'AAC22592.1', 'AAC22593.1', 'AAC22594.1', 'AAC22595.1', 'AAC22602.1', 'AAC22603.1', 'AAC22604.1', 'AAC22605.1', 'AAC22596.1', 'AAC22597.1', 'AAC22598.1', 'AAC22599.1', 'AAC22606.1', 'AAC22607.1', 'AAC22608.1', 'AAC22609.1', 'AAC22610.1', 'AAC22611.1', 'AAC22612.1', 'AAC22613.1', 'AAC22614.1', 'AAC22615.1', 'AAC22616.1', 'AAC22617.1', 'AAC22618.1', 'AAC22619.1', 'AAC22620.1', 'AAC22628.1', 'AAC22621.1', 'AAC22622.1', 'AAC22623.1', 'AAC22624.1', 'AAC22629.1', 'AAC22630.1', 'AAC22625.1', 'AAC22626.1', 'AAC22627.1', 'AAC22631.1', 'AAC22632.1', 'AAC22641.1', 'AAC22642.1', 'AAC22633.1', 'AAC22634.1', 'AAC22635.1', 'AAC22636.1', 'AAC22637.1', 'AAC22638.1', 'AAC22639.1', 'AAC22640.1', 'AAC22643.1', 'AAC22644.1', 'AAC22652.1', 'AAC22645.1', 'AAC22646.1', 'AAC22647.1', 'AAC22648.1', 'AAC22649.1', 'AAC22650.1', 'AAC22651.1', 'AAC22653.1', 'AAC22654.1', 'AAC22655.1', 'AAC22656.1', 'AAC22657.1', 'AAC22658.1', 'AAC22659.1', 'AAC22660.1', 'AAC22661.1', 'AAC22662.1', 'AAC22663.1', 'AAC22664.1', 'AAC22665.1', 'AAC22666.1', 'AAC22667.1', 'AAC22668.1', 'AAC22669.1', 'AAC22670.1', 'AAC22671.1', 'AAC22672.1', 'AAC22673.1', 'AAC22674.1', 'AAC22675.1', 'AAC22676.1', 'AAC22681.1', 'AAC22677.1', 'AAC22678.1', 'AAC22679.1', 'AAC22680.1', 'AAC22682.1', 'AAC22683.1', 'AAC22684.1', 'AAC22685.1', 'AAC22686.1', 'AAC22687.1', 'AAC22688.1', 'AAC22689.1', 'AAC22690.1', 'AAC22691.1', 'AAC22692.1', 'AAC22693.1', 'AAC22694.1', 'AAC22695.1', 'AAC22696.1', 'AAC22697.1', 'AAC22701.1', 'AAC22698.1', 'AAC22699.1', 'AAC22700.1', 'AAC22702.1', 'AAC22703.1', 'AAC22704.1', 'AAC22705.1', 'AAC22706.1', 'AAC22710.1', 'AAC22707.1', 'AAC22708.1', 'AAC22709.1', 'AAC22711.1', 'AAC22712.1', 'AAC22713.1', 'AAC22720.1', 'AAC22721.1', 'AAC22722.1', 'AAC22714.1', 'AAC22715.1', 'AAC22716.1', 'AAC22717.1', 'AAC22723.1', 'AAC22718.1', 'AAC22719.1', 'AAC22724.1', 'AAC22725.1', 'AAC22726.1', 'AAC22727.1', 'AAC22728.1', 'AAC22729.1', 'AAC22730.1', 'AAC22731.1', 'AAC22732.1', 'AAC22733.1', 'AAC22744.1', 'AAC22734.1', 'AAC22735.1', 'AAC22736.1', 'AAC22737.1', 'AAC22738.1', 'AAC22739.1', 'AAC22740.1', 'AAC22741.1', 'AAC22742.1', 'AAC22743.1', 'AAC22745.1', 'AAC22746.1', 'AAC22747.1', 'AAC22748.1', 'AAC22749.1', 'AAC22750.1', 'AAC22751.1', 'AAC22752.1', 'AAC22754.1', 'AAC22755.1', 'AAC22753.1', 'AAC22756.1', 'AAC22757.1', 'AAC22758.1', 'AAC22759.1', 'AAC22760.1', 'AAC22761.1', 'AAC22762.1', 'AAC22763.1', 'AAC22764.1', 'AAC22765.1', 'AAC22766.1', 'AAC22767.1', 'AAC22768.1', 'AAC22769.1', 'AAC22770.1', 'AAC22771.1', 'AAC22772.1', 'AAC22773.1', 'AAC22774.1', 'AAC22775.1', 'AAC22776.1', 'AAC22777.1', 'AAC22778.1', 'AAC22779.1', 'AAC22780.1', 'AAC22781.1', 'AAC22782.1', 'AAC22783.1', 'AAC22784.1', 'AAC22785.1', 'AAC22786.1', 'AAC22787.1', 'AAC22788.1', 'AAC22789.1', 'AAC22790.1', 'AAC22791.1', 'AAC22792.1', 'AAC22793.1', 'AAC22794.1', 'AAC22795.1', 'AAC22796.1', 'AAC22797.1', 'AAC22798.1', 'AAC22799.1', 'AAC22800.1', 'AAC22801.1', 'AAC22802.1', 'AAC22803.1', 'AAC22804.1', 'AAC22805.1', 'AAC22806.1', 'AAC22807.1', 'AAC22808.1', 'AAC22809.1', 'AAC22810.1', 'AAC22811.1', 'AAC22812.1', 'AAC22813.1', 'AAC22814.1', 'AAC22815.1', 'AAC22816.1', 'AAC22817.1', 'AAC22818.1', 'AAC22819.1', 'AAC22820.1', 'AAC22821.1', 'AAC22822.1', 'AAC22823.1', 'AAC22833.1', 'AAC22834.1', 'AAC22824.1', 'AAC22825.1', 'AAC22826.1', 'AAC22827.1', 'AAC22835.1', 'AAC22828.1', 'AAC22829.1', 'AAC22830.1', 'AAC22831.1', 'AAC22832.1', 'AAC22836.1', 'AAC22846.1', 'AAC22837.1', 'AAC22838.1', 'AAC22839.1', 'AAC22840.1', 'AAC22841.1', 'AAC22842.1', 'AAC22843.1', 'AAC22844.1', 'AAC22847.1', 'AAC22845.1', 'AAC22848.1', 'AAC22849.1', 'AAC22850.1', 'AAC22851.1', 'AAC22852.1', 'AAC22853.1', 'AAC22854.1', 'AAC22855.1', 'AAC22856.1', 'AAC22857.1', 'AAC22858.1', 'AAC22859.1', 'AAC22860.1', 'AAC22861.1', 'AAC22862.1', 'AAC22863.1', 'AAC22864.1', 'AAC22865.1', 'AAC22866.1', 'AAC22867.1', 'AAC22868.1', 'AAC22869.1', 'AAC22870.1', 'AAC22871.1', 'AAC22872.1', 'AAC22873.1', 'AAC22874.1', 'AAC22875.1', 'AAC22876.1', 'AAC22877.1', 'AAC22878.1', 'AAC22879.1', 'AAC22880.1', 'AAC22881.1', 'AAC22882.1', 'AAC22883.1', 'AAC22884.1', 'AAC22885.1', 'AAC22886.1', 'AAC22887.1', 'AAC22891.1', 'AAC22888.1', 'AAC22889.1', 'AAC22890.1', 'AAC22892.1', 'AAC22893.1', 'AAC22898.1', 'AAC22894.1', 'AAC22895.1', 'AAC22899.1', 'AAC22896.1', 'AAC22900.1', 'AAC22897.1', 'AAC22907.1', 'AAC22908.1', 'AAC22909.1', 'AAC22901.1', 'AAC22902.1', 'AAC22903.1', 'AAC22904.1', 'AAC22910.1', 'AAC22911.1', 'AAC22912.1', 'AAC22905.1', 'AAC22906.1', 'AAC22913.1', 'AAC22914.1', 'AAC22915.1', 'AAC22916.1', 'AAC22917.1', 'AAC22918.2', 'AAC22919.1', 'AAC22929.1', 'AAC22930.1', 'AAC22920.1', 'AAC22921.1', 'AAC22922.1', 'AAC22923.1', 'AAC22924.1', 'AAC22925.1', 'AAC22926.1', 'AAC22927.1', 'AAC22928.1', 'AAC22931.1', 'AAC22932.1', 'AAC22933.1', 'AAC22934.1', 'AAC22935.1', 'AAC22936.1', 'AAC22937.1', 'AAC22938.1', 'AAC22939.1', 'AAC22940.1', 'AAC22948.1', 'AAC22947.1', 'AAC22941.1', 'AAC22942.1', 'AAC22943.1', 'AAC22944.1', 'AAC22945.1', 'AAC22946.1', 'AAC22949.1', 'AAC22950.1', 'AAC22951.1', 'AAC22952.1', 'AAC22953.1', 'AAC22954.1', 'AAC22955.1', 'AAC22956.1', 'AAC22961.1', 'AAC22957.1', 'AAC22958.1', 'AAC22959.1', 'AAC22960.1', 'AAC22969.1', 'AAC22970.1', 'AAC22962.1', 'AAC22963.1', 'AAC22964.1', 'AAC22965.1', 'AAC22966.1', 'AAC22967.1', 'AAC22968.1', 'AAC22971.1', 'AAC22972.1', 'AAC22980.1', 'AAC22981.1', 'AAC22973.1', 'AAC22982.1', 'AAC22974.1', 'AAC22975.1', 'AAC22976.1', 'AAC22977.1', 'AAC22978.1', 'AAC22979.1', 'AAC22983.1', 'AAC22984.1', 'AAC22985.1', 'AAC22992.1', 'AAC22986.1', 'AAC22993.1', 'AAC22994.1', 'AAC22987.1', 'AAC22988.1', 'AAC22989.1', 'AAC22990.1', 'AAC22991.1', 'AAC22995.1', 'AAC22996.1', 'AAC22997.1', 'AAC22998.1', 'AAC22999.1', 'AAC23000.1', 'AAC23001.1', 'AAC23002.1', 'AAC23003.1', 'AAC23004.1', 'AAC23005.1', 'AAC23006.1', 'AAC23007.1', 'AAC23008.1', 'AAC23009.1', 'AAC23010.1', 'AAC23011.1', 'AAC23012.1', 'AAC23013.1', 'AAC23014.1', 'AAC23015.1', 'AAC23016.1', 'AAC23017.1', 'AAC23018.1', 'AAC23019.1', 'AAC23020.1', 'AAC23021.1', 'AAC23022.1', 'AAC23029.1', 'AAC23030.1', 'AAC23023.1', 'AAC23024.1', 'AAC23025.1', 'AAC23026.1', 'AAC23027.1', 'AAC23028.1', 'AAC23031.1', 'AAC23032.1', 'AAC23042.1', 'AAC23033.1', 'AAC23034.1', 'AAC23043.1', 'AAC23035.1', 'AAC23036.1', 'AAC23037.1', 'AAC23038.1', 'AAC23039.1', 'AAC23040.1', 'AAC23041.1', 'AAC23049.1', 'AAC23050.1', 'AAC23044.1', 'AAC23045.1', 'AAC23051.1', 'AAC23046.1', 'AAC23047.1', 'AAC23052.1', 'AAC23053.1', 'AAC23054.1', 'AAC23055.1', 'AAC23056.1', 'AAC23048.1', 'AAC23057.1', 'AAC23058.1', 'AAC23059.1', 'AAC23060.1', 'AAC23064.1', 'AAC23065.1', 'AAC23066.1', 'AAC23067.1', 'AAC23068.1', 'AAC23069.1', 'AAC23070.1', 'AAC23071.1', 'AAC23072.1', 'AAC23073.1', 'AAC23061.1', 'AAC23062.1', 'AAC23063.1', 'AAC23074.1', 'AAC23075.1', 'AAC23076.1', 'AAC23077.1', 'AAC23078.1', 'AAC23079.1', 'AAC23080.1', 'AAC23081.1', 'AAC23082.1', 'AAC23083.1', 'AAC23084.2', 'AAC23085.1', 'AAC23091.1', 'AAC23086.1', 'AAC23087.1', 'AAC23088.1', 'AAC23089.1', 'AAC23090.1', 'AAC23092.1', 'AAC23093.1', 'AAC23094.1', 'AAC23095.1', 'AAC23096.1', 'AAC23097.1', 'AAC23098.1', 'AAC23099.1', 'AAC23100.1', 'AAC23105.1', 'AAC23101.1', 'AAC23102.1', 'AAC23103.1', 'AAC23106.1', 'AAC23104.1', 'AAC23113.1', 'AAC23107.1', 'AAC23108.1', 'AAC23114.1', 'AAC23109.1', 'AAC23110.1', 'AAC23111.1', 'AAC23112.1', 'AAC23115.1', 'AAC23131.1', 'AAC23116.1', 'AAC23117.1', 'AAC23127.1', 'AAC23118.1', 'AAC23119.1', 'AAC23120.1', 'AAC23121.1', 'AAC23122.1', 'AAC23128.1', 'AAC23123.1', 'AAC23124.1', 'AAC23125.1', 'AAC23129.1', 'AAC23130.1', 'AAC23126.1', 'AAC23138.1', 'AAC23132.1', 'AAC23139.1', 'AAC23140.1', 'AAC23141.1', 'AAC23142.1', 'AAC23133.1', 'AAC23143.1', 'AAC23134.1', 'AAC23135.1', 'AAC23144.1', 'AAC23145.1', 'AAC23136.1', 'AAC23146.1', 'AAC23147.1', 'AAC23137.1', 'AAC23148.1', 'AAC23152.1', 'AAC23149.1', 'AAC23150.1', 'AAC23151.1', 'AAC23163.1', 'AAC23153.1', 'AAC23154.1', 'AAC23164.1', 'AAC23165.1', 'AAC23166.1', 'AAC23155.1', 'AAC23156.1', 'AAC23157.1', 'AAC23158.1', 'AAC23159.1', 'AAC23160.1', 'AAC23167.1', 'AAC23161.1', 'AAC23168.1', 'AAC23169.1', 'AAC23162.1', 'AAC23170.1', 'AAC23178.1', 'AAC23179.1', 'AAC23180.1', 'AAC23181.1', 'AAC23171.1', 'AAC23172.1', 'AAC23173.1', 'AAC23174.1', 'AAC23175.1', 'AAC23176.1', 'AAC23177.1', 'AAC23182.1', 'AAC23183.1', 'AAC23184.1', 'AAC23185.1', 'AAC23186.1', 'AAC23187.1', 'AAC23188.1', 'AAC23189.1', 'AAC23190.1', 'AAC23191.1', 'AAC23192.1', 'AAC23193.1', 'AAC23194.1', 'AAC23195.1', 'AAC23196.1', 'AAC23197.1', 'AAC23198.1', 'AAC23199.1', 'AAC23200.1', 'AAC23201.1', 'AAC23210.1', 'AAC23202.1', 'AAC23203.1', 'AAC23204.1', 'AAC23205.1', 'AAC23206.1', 'AAC23207.1', 'AAC23208.1', 'AAC23211.1', 'AAC23209.1', 'AAC23220.1', 'AAC23212.1', 'AAC23221.1', 'AAC23222.1', 'AAC23213.1', 'AAC23214.1', 'AAC23215.1', 'AAC23223.1', 'AAC23224.1', 'AAC23225.1', 'AAC23216.1', 'AAC23217.1', 'AAC23218.1', 'AAC23219.1', 'AAC23226.1', 'AAC23227.1', 'AAC23228.1', 'AAC23229.1', 'AAC23230.1', 'AAC23231.1', 'AAC23232.1', 'AAC23233.1', 'AAC23234.1', 'AAC23235.1', 'AAC23236.1', 'AAC23237.1', 'AAC23238.1', 'AAC23239.1', 'AAC23240.1', 'AAC23244.1', 'AAC23245.1', 'AAC23246.1', 'AAC23241.1', 'AAC23242.1', 'AAC23243.1', 'AAC23258.1', 'AAC23259.1', 'AAC23260.1', 'AAC23261.1', 'AAC23247.1', 'AAC23248.1', 'AAC23249.1', 'AAC23250.1', 'AAC23251.1', 'AAC23252.1', 'AAC23253.1', 'AAC23254.1', 'AAC23255.1', 'AAC23256.1', 'AAC23257.1', 'AAC23262.1', 'AAC23263.1', 'AAC23264.1', 'AAC23265.1', 'AAC23266.1', 'AAC23270.1', 'AAC23267.1', 'AAC23271.1', 'AAC23272.1', 'AAC23268.1', 'AAC23273.1', 'AAC23269.1', 'AAC23274.1', 'AAC23275.1', 'AAC23276.1', 'AAC23277.1', 'AAC23283.1', 'AAC23284.1', 'AAC23278.1', 'AAC23279.1', 'AAC23280.1', 'AAC23281.1', 'AAC23282.1', 'AAC23285.1', 'AAC23286.1', 'AAC23287.1', 'AAC23288.1', 'AAC23289.1', 'AAC23290.1', 'AAC23291.1', 'AAC23292.1', 'AAC23293.1', 'AAC23294.1', 'AAC23295.1', 'AAC23296.1', 'AAC23303.1', 'AAC23304.1', 'AAC23297.1', 'AAC23298.1', 'AAC23299.1', 'AAC23300.1', 'AAC23301.1', 'AAC23302.1', 'AAC23305.1', 'AAC23306.1', 'AAC23307.1', 'AAC23308.1', 'AAC23309.1', 'AAC23310.1', 'AAC23313.1', 'AAC23311.1', 'AAC23312.1', 'AAC23314.1', 'AAC23315.1', 'AAC23323.1', 'AAC23316.1', 'AAC23317.1', 'AAC23318.1', 'AAC23319.1', 'AAC23320.1', 'AAC23321.1', 'AAC23322.1', 'AAC23324.1', 'AAC23325.1', 'AAC23326.1', 'AAC23327.1', 'AAC23328.1', 'AAC23329.1', 'AAC23330.1', 'AAC23331.1', 'AAC23332.1', 'AAC23333.1', 'AAC23334.1', 'AAC23335.1', 'AAC23336.1', 'AAC23337.1', 'AAC23338.1', 'AAC23339.1', 'AAC23340.1', 'AAC23341.1', 'AAC23342.1', 'AAC23343.1', 'AAC23344.1', 'AAC23345.1', 'AAC23346.1', 'AAC23347.1', 'AAC23348.1', 'AAC23349.1', 'AAC23350.1', 'AAC23351.1', 'AAC23352.1', 'AAC23353.1', 'AAC23354.1', 'AAC23355.1', 'AAC23363.1', 'AAC23356.1', 'AAC23357.1', 'AAC23358.1', 'AAC23359.1', 'AAC23360.1', 'AAC23361.1', 'AAC23364.1', 'AAC23365.1', 'AAC23362.1', 'AAC23366.1', 'AAC23367.1', 'AAC23368.1', 'AAC23369.1', 'AAC23370.1', 'AAC23371.1', 'AAC23372.1', 'AAC23373.1', 'AAC23374.1', 'AAC23375.1', 'AAC23376.1', 'AAC23377.1', 'AAC23378.1', 'AAC23379.1', 'AAC23380.1', 'AAC23384.1', 'AAC23381.1', 'AAC23382.1', 'AAC23383.1', 'AAC23385.1', 'AAC23386.1', 'AAC23387.1', 'AAC23388.1', 'AAC23389.1', 'AAC23390.1']\n"
     ]
    }
   ],
   "source": [
    "# resposta\n",
    "import re\n",
    "\n",
    "# fonte = open(\"L42023.1.gb\",'r')\n",
    "fonte = open(\"L42023.1.gb\",'r')\n",
    "locus = fonte.read()\n",
    "fonte.close()\n",
    "\n",
    "# existe = re.search(r'/protein_id=\\\"[\\w+\\d+.]\\\"', locus)\n",
    "existe = re.findall(r'/protein_id=\\\"(.*?)(?=\")', locus, re.DOTALL) \n",
    "if existe:\n",
    "    print(existe)"
   ]
  },
  {
   "cell_type": "code",
   "execution_count": null,
   "metadata": {},
   "outputs": [],
   "source": []
  }
 ],
 "metadata": {
  "kernelspec": {
   "display_name": "Python 3 (ipykernel)",
   "language": "python",
   "name": "python3"
  },
  "language_info": {
   "codemirror_mode": {
    "name": "ipython",
    "version": 3
   },
   "file_extension": ".py",
   "mimetype": "text/x-python",
   "name": "python",
   "nbconvert_exporter": "python",
   "pygments_lexer": "ipython3",
   "version": "3.9.12"
  },
  "vscode": {
   "interpreter": {
    "hash": "916dbcbb3f70747c44a77c7bcd40155683ae19c65e1c03b4aa3499c5328201f1"
   }
  }
 },
 "nbformat": 4,
 "nbformat_minor": 2
}
